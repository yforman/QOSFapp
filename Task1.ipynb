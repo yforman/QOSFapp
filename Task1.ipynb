{
 "cells": [
  {
   "cell_type": "code",
   "execution_count": 8,
   "id": "8187f65f",
   "metadata": {},
   "outputs": [],
   "source": [
    "from qiskit import *\n",
    "from qiskit.visualization import *\n",
    "from qiskit.circuit.library import *\n",
    "import math"
   ]
  },
  {
   "cell_type": "code",
   "execution_count": 2,
   "id": "a51eadc8",
   "metadata": {},
   "outputs": [],
   "source": [
    "# This notebook implements a quantum algorithm, based on the usual quantum search algorithm, which takes as input a vector of positive integers and returns all subsets of that vector which sum to a given integer."
   ]
  },
  {
   "cell_type": "code",
   "execution_count": 4,
   "id": "10409a76",
   "metadata": {},
   "outputs": [],
   "source": [
    "# For example, if the input is the vector [1,3,6,4,2] with target 6, we return the list ([1,3,2],[6],[4,2])."
   ]
  },
  {
   "cell_type": "code",
   "execution_count": null,
   "id": "39fcc2e7",
   "metadata": {},
   "outputs": [],
   "source": [
    "# The algorithm is implemented by the function vector_subsets_sum."
   ]
  },
  {
   "cell_type": "code",
   "execution_count": 53,
   "id": "c7bb1c42",
   "metadata": {},
   "outputs": [],
   "source": [
    "# The function takes three inputs: a vector list of nonnegative integers, a target sum, and a backend on which to run the quantum circuit."
   ]
  },
  {
   "cell_type": "code",
   "execution_count": 137,
   "id": "cfe910a2",
   "metadata": {},
   "outputs": [],
   "source": [
    "def vector_subsets_sum(vector, target, backend):\n",
    "    # First check that all components of the vector are nonnegative integers:\n",
    "    for i in vector:\n",
    "        if not isinstance(i,int):\n",
    "            return \"Error: noninteger component in input vector.\"\n",
    "        if i<0:\n",
    "            return \"Error: negative component in input vector.\"\n",
    "    # Then check that the target is a nonnegative integer not larger than the sum of all components of the input vector:\n",
    "    if not isinstance(target,int):\n",
    "        return \"Error: noninteger target.\"\n",
    "    if target<0:\n",
    "        return \"Error: negative target.\"\n",
    "    if target>sum(vector):\n",
    "        return \"Error: target too large.\"\n",
    "    # We set up a quantum circuit with enough qubits to index vector components, and then enough bits to store sums of vector components, plus ancilla bits to store the vector components and one more ancilla bit.\n",
    "    l = len(vector)\n",
    "    n = 2**l\n",
    "    ind = QuantumRegister(l,'index')\n",
    "    valsize = int(math.log2(sum(vector))+1)\n",
    "    val = QuantumRegister(valsize,'value')\n",
    "    valanc = QuantumRegister(valsize,'value ancilla')\n",
    "    anc = QuantumRegister(1,'ancilla')\n",
    "    res = ClassicalRegister(l,'result')\n",
    "    qc = QuantumCircuit(ind,val,valanc,anc,res)\n",
    "    # Create a superposition of indices\n",
    "    qc.h(ind)\n",
    "    # Initialize ancilla qubit in the |-> state\n",
    "    qc.x(anc)\n",
    "    qc.h(anc)\n",
    "    qc.barrier()\n",
    "\n",
    "    # We construct a gate which sets all val qubits to 1 if and only if the sum of the components indicated by the index qubits set to 1 equal the target\n",
    "    check = QuantumCircuit(ind,val,valanc,anc)\n",
    "    # First, we use Draper adders to add each value in the vector, controlled on the index qubit\n",
    "    for i in range(l):\n",
    "        val_copy = vector[i]\n",
    "        bit = []\n",
    "        for j in range(valsize):\n",
    "            bit.append(val_copy%2)\n",
    "            if bit[j]==1:\n",
    "                check.x(valanc[j])\n",
    "            val_copy = (val_copy-bit[j])/2\n",
    "        check=check.compose(DraperQFTAdder(valsize).control(),qubits=ind[i:i+1]+valanc[0:valsize]+val[0:valsize])\n",
    "        for j in range(valsize):\n",
    "            if bit[j]==1:\n",
    "                check.x(valanc[j])\n",
    "    # To check against the target, we bitwise add the complement of the target so that all val bits are 1 in case of matching the target\n",
    "    target_copy = target\n",
    "    bit = []\n",
    "    for i in range(valsize):\n",
    "        bit.append(target_copy%2)\n",
    "        if bit[i]==0:\n",
    "            check.x(val[i])\n",
    "        target_copy = (target_copy-bit[i])/2\n",
    "    checkgate = check.to_gate()\n",
    "    # We now create the phaseflip oracle and Grover iterate for the counting and search algorithms\n",
    "    # This oracle implements a phaseflip on the ancilla qubit as long as it is initialized in the |-> state \n",
    "    ora = QuantumCircuit(ind,val,valanc,anc)\n",
    "    # First, we apply the checkgate to set all val qubits to 1 for index states which sum to the target\n",
    "    ora.append(checkgate, range(l+valsize+valsize+1))\n",
    "    # Then, we apply an X-gate controlled on all val states. Since the ancilla qubit is initalized to |->, this causes a phaseflip if the index states sum to the target\n",
    "    ora.mcx(val,anc[0])\n",
    "    # Finally we uncompute by applying the inverse of the checkgate, setting the val and ancilla val states back to |0>\n",
    "    ora.append(checkgate.inverse(), range(l+valsize+valsize+1))\n",
    "    # The second part of the Grover iterate is a standard diffuser:\n",
    "    dif = QuantumCircuit(ind)\n",
    "    dif.h(ind)\n",
    "    dif.x(ind)\n",
    "    dif.h(ind[l-1])\n",
    "    dif.mct(ind[0:l-1],ind[l-1])\n",
    "    dif.h(ind[l-1])\n",
    "    dif.u(2*math.pi,0,0,ind[l-1])\n",
    "    dif.x(ind)\n",
    "    dif.h(ind)\n",
    "    diffuser = dif.to_gate()\n",
    "    # We now construct the Grover iterate and the controlled Grover iterate\n",
    "    ora.append(diffuser,ind)\n",
    "    grov = ora.to_gate()\n",
    "    cgrov = grov.control()\n",
    "    # We now employ a quantum counting algorithm to estimate the Grover angle and number of solutions\n",
    "    # We need our original circuit, plus extra qubits for phase estimation\n",
    "    # The number of extra qubits:\n",
    "    t = int(l/2) + 4\n",
    "    ext = QuantumRegister(t)\n",
    "    meas = ClassicalRegister(t)\n",
    "    # We initialize the extra qubits in superposition and copy our circuit from above\n",
    "    qcount = QuantumCircuit(ext,ind,val,valanc,anc,meas)\n",
    "    qcount.h(ext)\n",
    "    qcount = qcount.compose(qc, qubits=ind[0:l]+val[0:valsize]+valanc[0:valsize]+anc[0:1])\n",
    "    # We now add the appropriate number of controlled Grover iterates:\n",
    "    for i in range(t):\n",
    "        for j in range(2**i):\n",
    "            qcount.append(cgrov, ext[i:i+1]+ind[0:l]+val[0:valsize]+valanc[0:valsize]+anc[0:1])\n",
    "    # and finally an inverse QFT and measurement:\n",
    "    qcount = qcount.compose(QFT(num_qubits=t).inverse(),ext[0:t])\n",
    "    qcount.measure(ext,meas)\n",
    "    # We now run the counting circuit on the given backend:\n",
    "    job = backend.run(assemble(transpile(qcount,backend)), shots=1024)\n",
    "    hist = job.result().get_counts()\n",
    "    # We read the most probable output, and convert it so it gives us the small version of the angle\n",
    "    pretheta = int(max(hist,key=hist.get),2)\n",
    "    tt = 2**(t-1)\n",
    "    pretheta = pretheta%tt\n",
    "    if pretheta > 2**(t-2):\n",
    "        pretheta = tt-pretheta\n",
    "    # This gives our estimates for the Grover angle and number of solutions:\n",
    "    theta = (pretheta/(2**t))*math.pi*2\n",
    "    nsols = round(n * math.sin(theta/2) * math.sin(theta/2))\n",
    "    \n",
    "    # Using our estimate for theta and the number of solutions, we compute the number of Grover iterates for our main circuit\n",
    "    num_grovs = round(math.acos(math.sqrt(nsols/n))/theta)\n",
    "    # We apply the appropriate number of Grover iterates and measure:\n",
    "    for i in range(num_grovs):\n",
    "        qc.append(grov, ind[0:l]+val[0:valsize]+valanc[0:valsize]+anc[0:1])\n",
    "    qc.measure(ind,res)\n",
    "    # We run our circuit enough times to find all solutions\n",
    "    nshots = 1024*int(math.log(nsols+2,2))\n",
    "    job = backend.run(assemble(transpile(qc,backend)), shots=nshots)\n",
    "    dicta = job.result().get_counts()\n",
    "    sols = []\n",
    "    # We count a solution if it appears at least 1/2nsols of the time\n",
    "    for i in dicta:\n",
    "        if dicta[i]>nshots/(2*nsols):\n",
    "            sols.append(i)\n",
    "    return sols\n"
   ]
  },
  {
   "cell_type": "code",
   "execution_count": 136,
   "id": "4c0f5c9f",
   "metadata": {},
   "outputs": [],
   "source": [
    "# We now initialize the inputs:"
   ]
  },
  {
   "cell_type": "code",
   "execution_count": 142,
   "id": "a85af028",
   "metadata": {},
   "outputs": [],
   "source": [
    "vector = [5,7,8,9,1]"
   ]
  },
  {
   "cell_type": "code",
   "execution_count": 143,
   "id": "2e542ade",
   "metadata": {},
   "outputs": [],
   "source": [
    "target = 16"
   ]
  },
  {
   "cell_type": "code",
   "execution_count": 144,
   "id": "66f638a7",
   "metadata": {},
   "outputs": [],
   "source": [
    "backend=Aer.get_backend('aer_simulator')"
   ]
  },
  {
   "cell_type": "code",
   "execution_count": 122,
   "id": "dad029e0",
   "metadata": {},
   "outputs": [],
   "source": [
    "# And we run the program:"
   ]
  },
  {
   "cell_type": "code",
   "execution_count": 145,
   "id": "4a04899f",
   "metadata": {},
   "outputs": [],
   "source": [
    "sols = vector_subsets_sum(vector,target,backend)"
   ]
  },
  {
   "cell_type": "code",
   "execution_count": 113,
   "id": "a59a0bd7",
   "metadata": {},
   "outputs": [],
   "source": [
    "# Note that the output gives a list of bitstrings."
   ]
  },
  {
   "cell_type": "code",
   "execution_count": 124,
   "id": "3677e19d",
   "metadata": {},
   "outputs": [],
   "source": [
    "# In each bitstring, the indices set to 1 indicate the vector components which form part of the sum."
   ]
  },
  {
   "cell_type": "code",
   "execution_count": 134,
   "id": "5939c07b",
   "metadata": {},
   "outputs": [],
   "source": [
    "# The bitstrings read right-to-left; e.g., for the vector [5,7,8,9,1], the bitstring 10110 indicates the subset [7,8,1]"
   ]
  },
  {
   "cell_type": "code",
   "execution_count": 146,
   "id": "7693f950",
   "metadata": {},
   "outputs": [
    {
     "data": {
      "text/plain": [
       "['01010', '10110']"
      ]
     },
     "execution_count": 146,
     "metadata": {},
     "output_type": "execute_result"
    }
   ],
   "source": [
    "sols"
   ]
  },
  {
   "cell_type": "code",
   "execution_count": null,
   "id": "1b8a271a",
   "metadata": {},
   "outputs": [],
   "source": []
  }
 ],
 "metadata": {
  "kernelspec": {
   "display_name": "Python 3 (ipykernel)",
   "language": "python",
   "name": "python3"
  },
  "language_info": {
   "codemirror_mode": {
    "name": "ipython",
    "version": 3
   },
   "file_extension": ".py",
   "mimetype": "text/x-python",
   "name": "python",
   "nbconvert_exporter": "python",
   "pygments_lexer": "ipython3",
   "version": "3.9.7"
  }
 },
 "nbformat": 4,
 "nbformat_minor": 5
}
